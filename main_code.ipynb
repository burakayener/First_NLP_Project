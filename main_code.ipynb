{
 "cells": [
  {
   "cell_type": "code",
   "execution_count": 71,
   "id": "a0375a7c",
   "metadata": {},
   "outputs": [],
   "source": [
    "import pandas as pd\n",
    "import numpy as np\n",
    "import seaborn as sns\n",
    "import warnings\n",
    "import random\n",
    "warnings.filterwarnings(\"ignore\")\n",
    "from sklearn.feature_extraction.text import TfidfVectorizer\n",
    "from test import *\n",
    "from sklearn.model_selection import train_test_split, RepeatedStratifiedKFold, GridSearchCV\n",
    "from sklearn.linear_model import LogisticRegression\n",
    "from sklearn.metrics import confusion_matrix, accuracy_score, classification_report, roc_curve, auc, roc_auc_score"
   ]
  },
  {
   "cell_type": "code",
   "execution_count": 2,
   "id": "43de4716",
   "metadata": {},
   "outputs": [],
   "source": [
    "df = pd.read_csv(\"data.csv\",on_bad_lines='skip')\n",
    "# Error tokenizing data. C error: Expected 2 fields in line 2810, saw 5\n",
    "# Using on_bad_lines = skip or  or = False "
   ]
  },
  {
   "cell_type": "code",
   "execution_count": 108,
   "id": "114beb55",
   "metadata": {},
   "outputs": [
    {
     "data": {
      "text/html": [
       "<div>\n",
       "<style scoped>\n",
       "    .dataframe tbody tr th:only-of-type {\n",
       "        vertical-align: middle;\n",
       "    }\n",
       "\n",
       "    .dataframe tbody tr th {\n",
       "        vertical-align: top;\n",
       "    }\n",
       "\n",
       "    .dataframe thead th {\n",
       "        text-align: right;\n",
       "    }\n",
       "</style>\n",
       "<table border=\"1\" class=\"dataframe\">\n",
       "  <thead>\n",
       "    <tr style=\"text-align: right;\">\n",
       "      <th></th>\n",
       "      <th>TF-IDF</th>\n",
       "    </tr>\n",
       "  </thead>\n",
       "  <tbody>\n",
       "    <tr>\n",
       "      <th>\u0005</th>\n",
       "      <td>0.0</td>\n",
       "    </tr>\n",
       "    <tr>\n",
       "      <th>\u0006</th>\n",
       "      <td>0.0</td>\n",
       "    </tr>\n",
       "    <tr>\n",
       "      <th>\b</th>\n",
       "      <td>0.0</td>\n",
       "    </tr>\n",
       "    <tr>\n",
       "      <th>\u000f</th>\n",
       "      <td>0.0</td>\n",
       "    </tr>\n",
       "    <tr>\n",
       "      <th>\u0010</th>\n",
       "      <td>0.0</td>\n",
       "    </tr>\n",
       "  </tbody>\n",
       "</table>\n",
       "</div>"
      ],
      "text/plain": [
       "   TF-IDF\n",
       "\u0005     0.0\n",
       "\u0006     0.0\n",
       "\b     0.0\n",
       "\u000f     0.0\n",
       "\u0010     0.0"
      ]
     },
     "execution_count": 108,
     "metadata": {},
     "output_type": "execute_result"
    }
   ],
   "source": [
    "df.head()\n",
    "# Read first 5 rows of the data."
   ]
  },
  {
   "cell_type": "code",
   "execution_count": 4,
   "id": "c7a080c5",
   "metadata": {},
   "outputs": [
    {
     "data": {
      "text/plain": [
       "array([1, 2, 0], dtype=int64)"
      ]
     },
     "execution_count": 4,
     "metadata": {},
     "output_type": "execute_result"
    }
   ],
   "source": [
    "df.strength.unique()\n",
    "# Have 3 unique values (0,1,2) for strenght"
   ]
  },
  {
   "cell_type": "code",
   "execution_count": 86,
   "id": "0bfdcb18",
   "metadata": {},
   "outputs": [
    {
     "data": {
      "text/plain": [
       "TF-IDF    0\n",
       "dtype: int64"
      ]
     },
     "execution_count": 86,
     "metadata": {},
     "output_type": "execute_result"
    }
   ],
   "source": [
    "df.isnull().sum()\n",
    "# Have only 1 NA value in password columns"
   ]
  },
  {
   "cell_type": "code",
   "execution_count": 6,
   "id": "99219ea1",
   "metadata": {},
   "outputs": [
    {
     "data": {
      "text/html": [
       "<div>\n",
       "<style scoped>\n",
       "    .dataframe tbody tr th:only-of-type {\n",
       "        vertical-align: middle;\n",
       "    }\n",
       "\n",
       "    .dataframe tbody tr th {\n",
       "        vertical-align: top;\n",
       "    }\n",
       "\n",
       "    .dataframe thead th {\n",
       "        text-align: right;\n",
       "    }\n",
       "</style>\n",
       "<table border=\"1\" class=\"dataframe\">\n",
       "  <thead>\n",
       "    <tr style=\"text-align: right;\">\n",
       "      <th></th>\n",
       "      <th>password</th>\n",
       "      <th>strength</th>\n",
       "    </tr>\n",
       "  </thead>\n",
       "  <tbody>\n",
       "    <tr>\n",
       "      <th>367579</th>\n",
       "      <td>NaN</td>\n",
       "      <td>0</td>\n",
       "    </tr>\n",
       "  </tbody>\n",
       "</table>\n",
       "</div>"
      ],
      "text/plain": [
       "       password  strength\n",
       "367579      NaN         0"
      ]
     },
     "execution_count": 6,
     "metadata": {},
     "output_type": "execute_result"
    }
   ],
   "source": [
    "df[df[\"password\"].isnull()]\n",
    "# 367579 index has NA"
   ]
  },
  {
   "cell_type": "code",
   "execution_count": 7,
   "id": "4a24d954",
   "metadata": {},
   "outputs": [],
   "source": [
    "df.dropna(inplace=True)\n",
    "# Drop NA row."
   ]
  },
  {
   "cell_type": "code",
   "execution_count": 8,
   "id": "c06f2039",
   "metadata": {},
   "outputs": [
    {
     "data": {
      "text/plain": [
       "password    False\n",
       "strength    False\n",
       "dtype: bool"
      ]
     },
     "execution_count": 8,
     "metadata": {},
     "output_type": "execute_result"
    }
   ],
   "source": [
    "df.isna().any()\n",
    "# No more missing values."
   ]
  },
  {
   "cell_type": "code",
   "execution_count": 9,
   "id": "696ccfcb",
   "metadata": {},
   "outputs": [
    {
     "data": {
      "text/plain": [
       "<AxesSubplot:xlabel='strength', ylabel='count'>"
      ]
     },
     "execution_count": 9,
     "metadata": {},
     "output_type": "execute_result"
    },
    {
     "data": {
      "image/png": "[encoded data removed]",
      "text/plain": [
       "<Figure size 432x288 with 1 Axes>"
      ]
     },
     "metadata": {
      "needs_background": "light"
     },
     "output_type": "display_data"
    }
   ],
   "source": [
    "sns.countplot(df[\"strength\"])\n",
    "# Distribution of the strenght variable."
   ]
  },
  {
   "cell_type": "code",
   "execution_count": 87,
   "id": "e1271ebc",
   "metadata": {},
   "outputs": [
    {
     "data": {
      "text/plain": [
       "array([['kzde5577', 1],\n",
       "       ['kzde5577', 1],\n",
       "       ['visi7k1yr', 1],\n",
       "       ...,\n",
       "       ['mercury347', 1],\n",
       "       ['alkaied719164', 1],\n",
       "       ['gingyd9', 0]], dtype=object)"
      ]
     },
     "execution_count": 87,
     "metadata": {},
     "output_type": "execute_result"
    }
   ],
   "source": [
    "#password_tuple = np.array(df)\n",
    "password_tuple"
   ]
  },
  {
   "cell_type": "code",
   "execution_count": 11,
   "id": "159bdcd4",
   "metadata": {},
   "outputs": [],
   "source": [
    "random.shuffle(password_tuple)\n",
    "# Shuffling the tuple."
   ]
  },
  {
   "cell_type": "code",
   "execution_count": 12,
   "id": "63e1ee67",
   "metadata": {},
   "outputs": [],
   "source": [
    "x = [labels[0] for labels in password_tuple]\n",
    "y = [labels[1] for labels in password_tuple]\n",
    "# X's are our independent variable and y's are dependent variable"
   ]
  },
  {
   "cell_type": "code",
   "execution_count": 88,
   "id": "4cb7c159",
   "metadata": {},
   "outputs": [],
   "source": [
    "def word_divide_char(values):\n",
    "    \"\"\"\n",
    "    Dividides to character given values  of password and returns as list.\n",
    "    \"\"\"\n",
    "    character = []\n",
    "    for v in values:\n",
    "        character.append(v)\n",
    "    return character\n"
   ]
  },
  {
   "cell_type": "code",
   "execution_count": 89,
   "id": "1dcfb286",
   "metadata": {},
   "outputs": [
    {
     "data": {
      "text/plain": [
       "['v', 'i', 's', 'i', '7', 'k', '1', 'y', 'r']"
      ]
     },
     "execution_count": 89,
     "metadata": {},
     "output_type": "execute_result"
    }
   ],
   "source": [
    "word_divide_char(x[2])"
   ]
  },
  {
   "cell_type": "code",
   "execution_count": 16,
   "id": "d1e401eb",
   "metadata": {},
   "outputs": [],
   "source": [
    "vectorizer = TfidfVectorizer(tokenizer=word_divide_char)\n",
    "X = vectorizer.fit_transform(x)\n",
    "# using TfidVectorizer to converting characters of passwords to matrix  of TF-IDF features. "
   ]
  },
  {
   "cell_type": "code",
   "execution_count": 104,
   "id": "da691280",
   "metadata": {},
   "outputs": [
    {
     "data": {
      "text/plain": [
       "(669639, 129)"
      ]
     },
     "execution_count": 104,
     "metadata": {},
     "output_type": "execute_result"
    }
   ],
   "source": [
    "X.shape\n",
    "# "
   ]
  },
  {
   "cell_type": "code",
   "execution_count": 98,
   "id": "1c8764d5",
   "metadata": {},
   "outputs": [
    {
     "data": {
      "text/plain": [
       "['5', '6', '7', '8', '9', ';', '<', '=', '>', '?', '@', '[', '\\\\', ']', '^']"
      ]
     },
     "execution_count": 98,
     "metadata": {},
     "output_type": "execute_result"
    }
   ],
   "source": [
    "vectorizer.get_feature_names()[30:45]"
   ]
  },
  {
   "cell_type": "code",
   "execution_count": 107,
   "id": "cebd419b",
   "metadata": {},
   "outputs": [],
   "source": [
    "first_document_vector = X[1]\n",
    "#first_document_vector.T.todense()"
   ]
  },
  {
   "cell_type": "code",
   "execution_count": 28,
   "id": "40edf88c",
   "metadata": {},
   "outputs": [],
   "source": [
    "df = pd.DataFrame(first_document_vector.T.todense(), index=vectorizer.get_feature_names(), columns=[\"TF-IDF\"])"
   ]
  },
  {
   "cell_type": "code",
   "execution_count": 31,
   "id": "d7525b4b",
   "metadata": {},
   "outputs": [
    {
     "data": {
      "text/html": [
       "<div>\n",
       "<style scoped>\n",
       "    .dataframe tbody tr th:only-of-type {\n",
       "        vertical-align: middle;\n",
       "    }\n",
       "\n",
       "    .dataframe tbody tr th {\n",
       "        vertical-align: top;\n",
       "    }\n",
       "\n",
       "    .dataframe thead th {\n",
       "        text-align: right;\n",
       "    }\n",
       "</style>\n",
       "<table border=\"1\" class=\"dataframe\">\n",
       "  <thead>\n",
       "    <tr style=\"text-align: right;\">\n",
       "      <th></th>\n",
       "      <th>TF-IDF</th>\n",
       "    </tr>\n",
       "  </thead>\n",
       "  <tbody>\n",
       "    <tr>\n",
       "      <th>5</th>\n",
       "      <td>0.566875</td>\n",
       "    </tr>\n",
       "    <tr>\n",
       "      <th>7</th>\n",
       "      <td>0.591636</td>\n",
       "    </tr>\n",
       "    <tr>\n",
       "      <th>d</th>\n",
       "      <td>0.285764</td>\n",
       "    </tr>\n",
       "    <tr>\n",
       "      <th>e</th>\n",
       "      <td>0.221262</td>\n",
       "    </tr>\n",
       "    <tr>\n",
       "      <th>k</th>\n",
       "      <td>0.291906</td>\n",
       "    </tr>\n",
       "    <tr>\n",
       "      <th>z</th>\n",
       "      <td>0.335846</td>\n",
       "    </tr>\n",
       "  </tbody>\n",
       "</table>\n",
       "</div>"
      ],
      "text/plain": [
       "     TF-IDF\n",
       "5  0.566875\n",
       "7  0.591636\n",
       "d  0.285764\n",
       "e  0.221262\n",
       "k  0.291906\n",
       "z  0.335846"
      ]
     },
     "execution_count": 31,
     "metadata": {},
     "output_type": "execute_result"
    }
   ],
   "source": [
    "df[df[\"TF-IDF\"] != 0]\n",
    "# df.sort_values(by=[\"TF-IDF\"], ascending=False) also can be used here to check password chars."
   ]
  },
  {
   "cell_type": "code",
   "execution_count": 35,
   "id": "38576d37",
   "metadata": {},
   "outputs": [],
   "source": [
    "X_train, X_test, y_train, y_test =  train_test_split(X, y, test_size=0.19)\n",
    "# Spliting data for train and test with test size 0.19"
   ]
  },
  {
   "cell_type": "code",
   "execution_count": 37,
   "id": "f7d55795",
   "metadata": {},
   "outputs": [
    {
     "data": {
      "text/plain": [
       "(127232, 129)"
      ]
     },
     "execution_count": 37,
     "metadata": {},
     "output_type": "execute_result"
    }
   ],
   "source": [
    "X_test.shape"
   ]
  },
  {
   "cell_type": "code",
   "execution_count": 40,
   "id": "52ea0c2b",
   "metadata": {},
   "outputs": [],
   "source": [
    "clf = LogisticRegression(multi_class=\"multinomial\")\n",
    "# Assign 'multinomial' to multi_class parameter. "
   ]
  },
  {
   "cell_type": "code",
   "execution_count": 41,
   "id": "8593bb24",
   "metadata": {},
   "outputs": [
    {
     "data": {
      "text/plain": [
       "LogisticRegression(multi_class='multinomial')"
      ]
     },
     "execution_count": 41,
     "metadata": {},
     "output_type": "execute_result"
    }
   ],
   "source": [
    "clf.fit(X_train, y_train)\n",
    "# Fitting data to LogisticRegression"
   ]
  },
  {
   "cell_type": "code",
   "execution_count": 43,
   "id": "3b581ed9",
   "metadata": {},
   "outputs": [],
   "source": [
    "y_pred = clf.predict(X_test)"
   ]
  },
  {
   "cell_type": "code",
   "execution_count": 45,
   "id": "50a65797",
   "metadata": {},
   "outputs": [],
   "source": [
    "cfm = confusion_matrix(y_test, y_pred)"
   ]
  },
  {
   "cell_type": "code",
   "execution_count": 48,
   "id": "23cb4494",
   "metadata": {},
   "outputs": [
    {
     "name": "stdout",
     "output_type": "stream",
     "text": [
      "[[ 5054 12172    24]\n",
      " [ 3533 88307  2311]\n",
      " [   54  4882 10895]]\n",
      "0.8194164989939637\n"
     ]
    }
   ],
   "source": [
    "print(cfm)\n",
    "print(accuracy_score(y_test, y_pred))"
   ]
  },
  {
   "cell_type": "code",
   "execution_count": 66,
   "id": "b7a78675",
   "metadata": {},
   "outputs": [
    {
     "name": "stdout",
     "output_type": "stream",
     "text": [
      "              precision    recall  f1-score   support\n",
      "\n",
      "           0       0.58      0.29      0.39     17250\n",
      "           1       0.84      0.94      0.89     94151\n",
      "           2       0.82      0.69      0.75     15831\n",
      "\n",
      "    accuracy                           0.82    127232\n",
      "   macro avg       0.75      0.64      0.68    127232\n",
      "weighted avg       0.80      0.82      0.80    127232\n",
      "\n"
     ]
    }
   ],
   "source": [
    "print(classification_report(y_test, y_pred))"
   ]
  },
  {
   "cell_type": "code",
   "execution_count": 72,
   "id": "87cc80d7",
   "metadata": {},
   "outputs": [],
   "source": [
    "model = LogisticRegression()\n",
    "solvers = ['newton-cg', 'lbfgs', 'liblinear']\n",
    "penalty = ['l2']\n",
    "c_values = [100, 10, 1.0, 0.1, 0.01]\n",
    "# define grid search\n",
    "grid = dict(solver=solvers,penalty=penalty,C=c_values)\n",
    "cv = RepeatedStratifiedKFold(n_splits=15, n_repeats=5)\n",
    "grid_search = GridSearchCV(estimator=model, param_grid=grid, n_jobs=-1, cv=cv, scoring='accuracy',error_score=0)\n",
    "grid_result = grid_search.fit(X_test, y_test)\n",
    "# Takes lot of time..."
   ]
  },
  {
   "cell_type": "code",
   "execution_count": 77,
   "id": "e8bad616",
   "metadata": {},
   "outputs": [
    {
     "data": {
      "text/plain": [
       "{'C': 10, 'penalty': 'l2', 'solver': 'newton-cg'}"
      ]
     },
     "execution_count": 77,
     "metadata": {},
     "output_type": "execute_result"
    }
   ],
   "source": [
    "grid_result.best_params_\n",
    "# Best params for this model."
   ]
  },
  {
   "cell_type": "code",
   "execution_count": 78,
   "id": "38aa6fd1",
   "metadata": {},
   "outputs": [],
   "source": [
    "clf = LogisticRegression(multi_class=\"multinomial\", **grid_result.best_params_)\n",
    "# Changing params with params we found."
   ]
  },
  {
   "cell_type": "code",
   "execution_count": 79,
   "id": "b8b349c0",
   "metadata": {},
   "outputs": [
    {
     "data": {
      "text/plain": [
       "LogisticRegression(C=10, multi_class='multinomial', solver='newton-cg')"
      ]
     },
     "execution_count": 79,
     "metadata": {},
     "output_type": "execute_result"
    }
   ],
   "source": [
    "clf.fit(X_train, y_train)\n",
    "# Fitting again."
   ]
  },
  {
   "cell_type": "code",
   "execution_count": 80,
   "id": "5e474d81",
   "metadata": {},
   "outputs": [],
   "source": [
    "y_pred = clf.predict(X_test)"
   ]
  },
  {
   "cell_type": "code",
   "execution_count": 81,
   "id": "e377285b",
   "metadata": {},
   "outputs": [
    {
     "name": "stdout",
     "output_type": "stream",
     "text": [
      "              precision    recall  f1-score   support\n",
      "\n",
      "           0       0.58      0.31      0.40     17250\n",
      "           1       0.84      0.93      0.88     94151\n",
      "           2       0.82      0.70      0.75     15831\n",
      "\n",
      "    accuracy                           0.82    127232\n",
      "   macro avg       0.75      0.65      0.68    127232\n",
      "weighted avg       0.80      0.82      0.80    127232\n",
      "\n"
     ]
    }
   ],
   "source": [
    "print(classification_report(y_test, y_pred))"
   ]
  },
  {
   "cell_type": "code",
   "execution_count": 82,
   "id": "bc48f20f",
   "metadata": {},
   "outputs": [
    {
     "name": "stdout",
     "output_type": "stream",
     "text": [
      "0.8197308853118712\n"
     ]
    }
   ],
   "source": [
    "print(accuracy_score(y_test, y_pred))"
   ]
  },
  {
   "cell_type": "markdown",
   "id": "0cd03d91",
   "metadata": {},
   "source": [
    "     Accuracy slightly increased."
   ]
  },
  {
   "cell_type": "markdown",
   "id": "87d2f823",
   "metadata": {},
   "source": [
    "    Dataset taken from https://www.udemy.com/course/data-science-real-world-projects-in-python-x/\n",
    "    course.\n",
    "    My first project about NLP for understand TfidVectorizer algorithm."
   ]
  }
 ],
 "metadata": {
  "kernelspec": {
   "display_name": "Python 3 (ipykernel)",
   "language": "python",
   "name": "python3"
  },
  "language_info": {
   "codemirror_mode": {
    "name": "ipython",
    "version": 3
   },
   "file_extension": ".py",
   "mimetype": "text/x-python",
   "name": "python",
   "nbconvert_exporter": "python",
   "pygments_lexer": "ipython3",
   "version": "3.9.12"
  }
 },
 "nbformat": 4,
 "nbformat_minor": 5
}
